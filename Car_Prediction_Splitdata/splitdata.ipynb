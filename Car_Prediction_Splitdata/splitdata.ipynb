{
 "cells": [
  {
   "cell_type": "code",
   "execution_count": 9,
   "metadata": {},
   "outputs": [],
   "source": [
    "import pandas as pd\n",
    "import numpy as np\n",
    "import os"
   ]
  },
  {
   "cell_type": "code",
   "execution_count": 10,
   "metadata": {},
   "outputs": [],
   "source": [
    "# đọc dữ liệu từ file csv\n",
    "df = pd.read_csv('data_raw.csv')"
   ]
  },
  {
   "cell_type": "code",
   "execution_count": 11,
   "metadata": {},
   "outputs": [],
   "source": [
    "# chia tập dữ liệu thành 2 phần: big_data.csv và small_data.csv\n",
    "big_df = df.sample(frac=0.9, random_state=42)\n",
    "small_df = df.drop(big_df.index)"
   ]
  },
  {
   "cell_type": "code",
   "execution_count": 12,
   "metadata": {},
   "outputs": [],
   "source": [
    "# tạo thư mục 'big' và lưu big_data.csv vào đó\n",
    "if not os.path.exists('big'):\n",
    "    os.makedirs('big')\n",
    "big_df.to_csv('big/big_data_raw.csv', index=False)\n",
    "small_df.to_csv('big/small_data_raw.csv', index=False)\n",
    "\n",
    "# tạo thư mục 'small' và lưu small_data.csv vào đó\n",
    "if not os.path.exists('small'):\n",
    "    os.makedirs('small')\n",
    "small_df.to_csv('small/small_data_raw.csv', index=False)"
   ]
  }
 ],
 "metadata": {
  "kernelspec": {
   "display_name": "Python 3",
   "language": "python",
   "name": "python3"
  },
  "language_info": {
   "codemirror_mode": {
    "name": "ipython",
    "version": 3
   },
   "file_extension": ".py",
   "mimetype": "text/x-python",
   "name": "python",
   "nbconvert_exporter": "python",
   "pygments_lexer": "ipython3",
   "version": "3.11.3"
  },
  "orig_nbformat": 4
 },
 "nbformat": 4,
 "nbformat_minor": 2
}
