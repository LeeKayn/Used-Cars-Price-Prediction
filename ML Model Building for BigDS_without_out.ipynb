{
 "cells": [
  {
   "cell_type": "code",
   "execution_count": 1,
   "metadata": {
    "collapsed": false,
    "pycharm": {
     "name": "#%%\n"
    }
   },
   "outputs": [],
   "source": [
    "import pandas as pd\n",
    "import numpy as np\n",
    "import seaborn as sns\n",
    "import matplotlib.pyplot as plt\n",
    "import warnings\n",
    "warnings.filterwarnings('ignore')"
   ]
  },
  {
   "cell_type": "code",
   "execution_count": 2,
   "metadata": {
    "collapsed": false,
    "pycharm": {
     "name": "#%%\n"
    }
   },
   "outputs": [],
   "source": [
    "import os\n",
    "file_path = 'Car_Prediction_Splitdata/big/scaled_big_car_used_data_without_outliers.csv'\n",
    "file_name_with_extension = os.path.basename(file_path)\n",
    "file_name, file_extension = os.path.splitext(file_name_with_extension)"
   ]
  },
  {
   "cell_type": "code",
   "execution_count": 3,
   "metadata": {
    "collapsed": false,
    "pycharm": {
     "name": "#%%\n"
    }
   },
   "outputs": [],
   "source": [
    "import csv\n",
    "import math\n",
    "\n",
    "data = [\n",
    "    ['RandomForestRegressor', None, None, None, None, None, None],\n",
    "    ['DecisionTreeRegressor', None, None, None, None, None, None],\n",
    "    ['XGBRegressor', None, None, None, None, None, None],\n",
    "    ['BaggingRegressor', None, None, None, None, None, None]\n",
    "]\n",
    "\n",
    "# Tên tiêu đề cột\n",
    "header = ['Regressor', 'R2_Score','Cross validation score', 'mean_squared_error', 'mean_absolute_error', 'root_mean_squared_error', 'Diff']\n",
    "\n",
    "file_name = file_name + '_result.csv'\n",
    "\n",
    "# Tạo và ghi vào file CSV\n",
    "with open(file_name, 'w', newline='') as file:\n",
    "    writer = csv.writer(file)\n",
    "    writer.writerow(header)\n",
    "    writer.writerows(data)"
   ]
  },
  {
   "cell_type": "code",
   "execution_count": 4,
   "metadata": {
    "collapsed": false,
    "pycharm": {
     "name": "#%%\n"
    }
   },
   "outputs": [],
   "source": [
    "def write_result(name,r2_score_value,scores_value,mean_squared_error,mean_absolute_error,root_mean_squared_error,diff_value):\n",
    "    data = []\n",
    "    with open(file_name, 'r') as file:\n",
    "        reader = csv.reader(file)\n",
    "        data = list(reader)\n",
    "    for row in data:\n",
    "        if row[0] == name:\n",
    "            row[1] = r2_score_value\n",
    "            row[2] = scores_value\n",
    "            row[3] = mean_squared_error\n",
    "            row[4] = mean_absolute_error\n",
    "            row[5] = root_mean_squared_error\n",
    "            row[6] = diff_value\n",
    "\n",
    "    # Ghi lại dữ liệu đã cập nhật vào file CSV\n",
    "    with open(file_name, 'w', newline='') as file:\n",
    "        writer = csv.writer(file)\n",
    "        writer.writerows(data)"
   ]
  },
  {
   "cell_type": "code",
   "execution_count": 5,
   "metadata": {
    "collapsed": false,
    "pycharm": {
     "name": "#%%\n"
    }
   },
   "outputs": [
    {
     "data": {
      "text/html": [
       "<div>\n",
       "<style scoped>\n",
       "    .dataframe tbody tr th:only-of-type {\n",
       "        vertical-align: middle;\n",
       "    }\n",
       "\n",
       "    .dataframe tbody tr th {\n",
       "        vertical-align: top;\n",
       "    }\n",
       "\n",
       "    .dataframe thead th {\n",
       "        text-align: right;\n",
       "    }\n",
       "</style>\n",
       "<table border=\"1\" class=\"dataframe\">\n",
       "  <thead>\n",
       "    <tr style=\"text-align: right;\">\n",
       "      <th></th>\n",
       "      <th>maker_model</th>\n",
       "      <th>variants</th>\n",
       "      <th>body_type</th>\n",
       "      <th>type</th>\n",
       "      <th>seat</th>\n",
       "      <th>door</th>\n",
       "      <th>mileage</th>\n",
       "      <th>non_smoker_vehicle</th>\n",
       "      <th>power</th>\n",
       "      <th>gearbox</th>\n",
       "      <th>engine_size</th>\n",
       "      <th>fuel_type</th>\n",
       "      <th>emission_classe</th>\n",
       "      <th>colour</th>\n",
       "      <th>manufacturer_colour</th>\n",
       "      <th>upholstery_colour</th>\n",
       "      <th>upholstery</th>\n",
       "      <th>car_age</th>\n",
       "      <th>inspection_interval</th>\n",
       "      <th>price (€)</th>\n",
       "    </tr>\n",
       "  </thead>\n",
       "  <tbody>\n",
       "    <tr>\n",
       "      <th>0</th>\n",
       "      <td>-1.500352</td>\n",
       "      <td>0.218739</td>\n",
       "      <td>0.433270</td>\n",
       "      <td>0.419918</td>\n",
       "      <td>0.155740</td>\n",
       "      <td>-0.434859</td>\n",
       "      <td>0.002173</td>\n",
       "      <td>-1.731720</td>\n",
       "      <td>1.184470</td>\n",
       "      <td>-0.622728</td>\n",
       "      <td>1.659787</td>\n",
       "      <td>-0.893815</td>\n",
       "      <td>0.676819</td>\n",
       "      <td>-0.013562</td>\n",
       "      <td>-0.329873</td>\n",
       "      <td>1.475588</td>\n",
       "      <td>-0.112520</td>\n",
       "      <td>-0.767191</td>\n",
       "      <td>0.466211</td>\n",
       "      <td>72239</td>\n",
       "    </tr>\n",
       "    <tr>\n",
       "      <th>1</th>\n",
       "      <td>1.379300</td>\n",
       "      <td>1.072728</td>\n",
       "      <td>1.892357</td>\n",
       "      <td>0.419918</td>\n",
       "      <td>0.155740</td>\n",
       "      <td>0.746877</td>\n",
       "      <td>1.234424</td>\n",
       "      <td>-1.731720</td>\n",
       "      <td>0.001517</td>\n",
       "      <td>-0.622728</td>\n",
       "      <td>0.167679</td>\n",
       "      <td>-1.030832</td>\n",
       "      <td>-0.730657</td>\n",
       "      <td>0.214446</td>\n",
       "      <td>-0.336681</td>\n",
       "      <td>-0.341443</td>\n",
       "      <td>-0.818773</td>\n",
       "      <td>0.363325</td>\n",
       "      <td>0.466211</td>\n",
       "      <td>22970</td>\n",
       "    </tr>\n",
       "    <tr>\n",
       "      <th>2</th>\n",
       "      <td>1.140293</td>\n",
       "      <td>0.625774</td>\n",
       "      <td>1.892357</td>\n",
       "      <td>0.419918</td>\n",
       "      <td>-2.087474</td>\n",
       "      <td>-0.434859</td>\n",
       "      <td>0.080873</td>\n",
       "      <td>0.577461</td>\n",
       "      <td>-0.843449</td>\n",
       "      <td>-0.622728</td>\n",
       "      <td>0.167679</td>\n",
       "      <td>-1.030832</td>\n",
       "      <td>-0.730657</td>\n",
       "      <td>1.126480</td>\n",
       "      <td>-0.916674</td>\n",
       "      <td>-0.341443</td>\n",
       "      <td>1.299987</td>\n",
       "      <td>-0.390352</td>\n",
       "      <td>-0.960946</td>\n",
       "      <td>27999</td>\n",
       "    </tr>\n",
       "    <tr>\n",
       "      <th>3</th>\n",
       "      <td>-1.249780</td>\n",
       "      <td>1.603253</td>\n",
       "      <td>0.676451</td>\n",
       "      <td>0.419918</td>\n",
       "      <td>0.155740</td>\n",
       "      <td>-0.434859</td>\n",
       "      <td>0.453086</td>\n",
       "      <td>0.577461</td>\n",
       "      <td>1.860443</td>\n",
       "      <td>-0.622728</td>\n",
       "      <td>1.659787</td>\n",
       "      <td>-0.071712</td>\n",
       "      <td>-0.730657</td>\n",
       "      <td>-1.153605</td>\n",
       "      <td>1.122832</td>\n",
       "      <td>-1.249958</td>\n",
       "      <td>-0.112520</td>\n",
       "      <td>0.363325</td>\n",
       "      <td>0.466211</td>\n",
       "      <td>38499</td>\n",
       "    </tr>\n",
       "    <tr>\n",
       "      <th>4</th>\n",
       "      <td>-0.004629</td>\n",
       "      <td>1.528637</td>\n",
       "      <td>0.676451</td>\n",
       "      <td>0.419918</td>\n",
       "      <td>0.155740</td>\n",
       "      <td>0.746877</td>\n",
       "      <td>-0.318531</td>\n",
       "      <td>-1.731720</td>\n",
       "      <td>1.606954</td>\n",
       "      <td>-0.622728</td>\n",
       "      <td>0.211677</td>\n",
       "      <td>-0.208729</td>\n",
       "      <td>0.676819</td>\n",
       "      <td>0.898472</td>\n",
       "      <td>0.299133</td>\n",
       "      <td>-0.341443</td>\n",
       "      <td>1.299987</td>\n",
       "      <td>-0.390352</td>\n",
       "      <td>0.466211</td>\n",
       "      <td>38560</td>\n",
       "    </tr>\n",
       "  </tbody>\n",
       "</table>\n",
       "</div>"
      ],
      "text/plain": [
       "   maker_model  variants  body_type      type      seat      door   mileage   \n",
       "0    -1.500352  0.218739   0.433270  0.419918  0.155740 -0.434859  0.002173  \\\n",
       "1     1.379300  1.072728   1.892357  0.419918  0.155740  0.746877  1.234424   \n",
       "2     1.140293  0.625774   1.892357  0.419918 -2.087474 -0.434859  0.080873   \n",
       "3    -1.249780  1.603253   0.676451  0.419918  0.155740 -0.434859  0.453086   \n",
       "4    -0.004629  1.528637   0.676451  0.419918  0.155740  0.746877 -0.318531   \n",
       "\n",
       "   non_smoker_vehicle     power   gearbox  engine_size  fuel_type   \n",
       "0           -1.731720  1.184470 -0.622728     1.659787  -0.893815  \\\n",
       "1           -1.731720  0.001517 -0.622728     0.167679  -1.030832   \n",
       "2            0.577461 -0.843449 -0.622728     0.167679  -1.030832   \n",
       "3            0.577461  1.860443 -0.622728     1.659787  -0.071712   \n",
       "4           -1.731720  1.606954 -0.622728     0.211677  -0.208729   \n",
       "\n",
       "   emission_classe    colour  manufacturer_colour  upholstery_colour   \n",
       "0         0.676819 -0.013562            -0.329873           1.475588  \\\n",
       "1        -0.730657  0.214446            -0.336681          -0.341443   \n",
       "2        -0.730657  1.126480            -0.916674          -0.341443   \n",
       "3        -0.730657 -1.153605             1.122832          -1.249958   \n",
       "4         0.676819  0.898472             0.299133          -0.341443   \n",
       "\n",
       "   upholstery   car_age  inspection_interval  price (€)  \n",
       "0   -0.112520 -0.767191             0.466211      72239  \n",
       "1   -0.818773  0.363325             0.466211      22970  \n",
       "2    1.299987 -0.390352            -0.960946      27999  \n",
       "3   -0.112520  0.363325             0.466211      38499  \n",
       "4    1.299987 -0.390352             0.466211      38560  "
      ]
     },
     "execution_count": 5,
     "metadata": {},
     "output_type": "execute_result"
    }
   ],
   "source": [
    "df= pd.read_csv('Car_Prediction_Splitdata/big/scaled_big_car_used_data_without_outliers.csv')\n",
    "df.head()"
   ]
  },
  {
   "cell_type": "code",
   "execution_count": 6,
   "metadata": {
    "collapsed": false,
    "pycharm": {
     "name": "#%%\n"
    }
   },
   "outputs": [],
   "source": [
    "X = df.drop(['price (€)'], axis = 1)\n",
    "Y = df['price (€)']"
   ]
  },
  {
   "cell_type": "code",
   "execution_count": 7,
   "metadata": {
    "collapsed": false,
    "pycharm": {
     "name": "#%%\n"
    }
   },
   "outputs": [],
   "source": [
    "from sklearn.ensemble import RandomForestRegressor\n",
    "from sklearn.tree import DecisionTreeRegressor\n",
    "from xgboost import XGBRegressor\n",
    "from sklearn.ensemble import  GradientBoostingRegressor\n",
    "from sklearn.ensemble import BaggingRegressor"
   ]
  },
  {
   "cell_type": "code",
   "execution_count": 8,
   "metadata": {
    "collapsed": false,
    "pycharm": {
     "name": "#%%\n"
    }
   },
   "outputs": [],
   "source": [
    "from sklearn.metrics import mean_squared_error, mean_absolute_error,  r2_score\n",
    "from sklearn.model_selection import train_test_split"
   ]
  },
  {
   "cell_type": "code",
   "execution_count": 9,
   "metadata": {
    "collapsed": false,
    "pycharm": {
     "name": "#%%\n"
    }
   },
   "outputs": [
    {
     "name": "stdout",
     "output_type": "stream",
     "text": [
      "Training feature matrix size: (7319, 19)\n",
      "Training target vector size: (7319,)\n",
      "Test feature matrix size: (3138, 19)\n",
      "Test target vector size: (3138,)\n"
     ]
    }
   ],
   "source": [
    "X_train, X_test, Y_train, Y_test = train_test_split(X, Y, random_state=10, test_size=.3)\n",
    "print('Training feature matrix size:',X_train.shape)\n",
    "print('Training target vector size:',Y_train.shape)\n",
    "print('Test feature matrix size:',X_test.shape)\n",
    "print('Test target vector size:',Y_test.shape)"
   ]
  },
  {
   "cell_type": "code",
   "execution_count": 11,
   "metadata": {
    "collapsed": false,
    "pycharm": {
     "name": "#%%\n"
    }
   },
   "outputs": [
    {
     "name": "stdout",
     "output_type": "stream",
     "text": [
      "R2_score: 90.17223427603717\n",
      "mean_squared_error: 29122820.08798912\n",
      "mean_absolute_error: 3491.3686917635337\n",
      "root_mean_squared_error: 5396.556317503702\n",
      "\n",
      "Cross validation score : 91.15182100525054\n",
      "\n",
      "R2_Score - Cross Validation Score : -0.9795867292133664\n"
     ]
    }
   ],
   "source": [
    "from sklearn.model_selection import cross_val_score\n",
    "from sklearn.metrics import mean_squared_error\n",
    "RFR=RandomForestRegressor()\n",
    "RFR.fit(X_train,Y_train)\n",
    "pred=RFR.predict(X_test)\n",
    "R2_score = r2_score(Y_test,pred)*100\n",
    "print('R2_score:',R2_score)\n",
    "print('mean_squared_error:',mean_squared_error(Y_test,pred))\n",
    "print('mean_absolute_error:',mean_absolute_error(Y_test,pred))\n",
    "print('root_mean_squared_error:',np.sqrt(mean_squared_error(Y_test,pred)))\n",
    "\n",
    "# Cross Validation Score\n",
    "scores = cross_val_score(RFR, X, Y, cv = 10).mean()*100\n",
    "print(\"\\nCross validation score :\", scores)\n",
    "\n",
    "# Difference between Accuracy and CV Score\n",
    "diff = R2_score - scores\n",
    "print(\"\\nR2_Score - Cross Validation Score :\", diff)\n",
    "\n",
    "write_result('RandomForestRegressor',R2_score,scores,mean_squared_error(Y_test,pred),mean_absolute_error(Y_test,pred),np.sqrt(mean_squared_error(Y_test,pred)),diff)"
   ]
  },
  {
   "cell_type": "code",
   "execution_count": 12,
   "metadata": {
    "collapsed": false,
    "pycharm": {
     "name": "#%%\n"
    }
   },
   "outputs": [
    {
     "name": "stdout",
     "output_type": "stream",
     "text": [
      "R2_score: 92.02773619362792\n",
      "mean_squared_error: 23624373.1330362\n",
      "mean_absolute_error: 3176.498517767649\n",
      "root_mean_squared_error: 4860.49103826313\n",
      "\n",
      "Cross validation score : 92.77668391962773\n",
      "\n",
      "R2_Score - Cross Validation Score : -0.7489477259998125\n"
     ]
    }
   ],
   "source": [
    "XGB=XGBRegressor()\n",
    "XGB.fit(X_train,Y_train)\n",
    "pred=XGB.predict(X_test)\n",
    "R2_score = r2_score(Y_test,pred)*100\n",
    "print('R2_score:',R2_score)\n",
    "print('mean_squared_error:',mean_squared_error(Y_test,pred))\n",
    "print('mean_absolute_error:',mean_absolute_error(Y_test,pred))\n",
    "print('root_mean_squared_error:',np.sqrt(mean_squared_error(Y_test,pred)))\n",
    "\n",
    "# Cross Validation on XGB Model\n",
    "scores = cross_val_score(XGB, X, Y, cv = 10).mean()*100\n",
    "print(\"\\nCross validation score :\", scores)\n",
    "\n",
    "# Difference between Accuracy and CV Score\n",
    "diff = R2_score - scores\n",
    "print(\"\\nR2_Score - Cross Validation Score :\", diff)\n",
    "\n",
    "write_result('XGBRegressor',R2_score,scores,mean_squared_error(Y_test,pred),mean_absolute_error(Y_test,pred),np.sqrt(mean_squared_error(Y_test,pred)),diff)"
   ]
  },
  {
   "cell_type": "code",
   "execution_count": 13,
   "metadata": {
    "collapsed": false,
    "pycharm": {
     "name": "#%%\n"
    }
   },
   "outputs": [
    {
     "name": "stdout",
     "output_type": "stream",
     "text": [
      "R2_score: 79.59357710066446\n",
      "mean_squared_error: 60470772.24151972\n",
      "mean_absolute_error: 4650.18854896962\n",
      "root_mean_squared_error: 7776.295534605132\n",
      "\n",
      "Cross validation score : 80.8095749355916\n",
      "\n",
      "R2_Score - Cross Validation Score : -1.215997834927137\n"
     ]
    }
   ],
   "source": [
    "DTR=DecisionTreeRegressor()\n",
    "DTR.fit(X_train,Y_train)\n",
    "pred=DTR.predict(X_test)\n",
    "R2_score = r2_score(Y_test,pred)*100\n",
    "print('R2_score:',R2_score)\n",
    "print('mean_squared_error:',mean_squared_error(Y_test,pred))\n",
    "print('mean_absolute_error:',mean_absolute_error(Y_test,pred))\n",
    "print('root_mean_squared_error:',np.sqrt(mean_squared_error(Y_test,pred)))\n",
    "# Cross Validation Score\n",
    "scores = cross_val_score(DTR, X, Y, cv = 10).mean()*100\n",
    "print(\"\\nCross validation score :\", scores)\n",
    "\n",
    "# Difference between Accuracy and CV Score\n",
    "diff = R2_score - scores\n",
    "print(\"\\nR2_Score - Cross Validation Score :\", diff)\n",
    "\n",
    "write_result('DecisionTreeRegressor',R2_score,scores,mean_squared_error(Y_test,pred),mean_absolute_error(Y_test,pred),np.sqrt(mean_squared_error(Y_test,pred)),diff)"
   ]
  },
  {
   "cell_type": "code",
   "execution_count": 14,
   "metadata": {
    "collapsed": false,
    "pycharm": {
     "name": "#%%\n"
    }
   },
   "outputs": [
    {
     "name": "stdout",
     "output_type": "stream",
     "text": [
      "R2_score: 89.0274923926791\n",
      "mean_squared_error: 32515057.230449222\n",
      "mean_absolute_error: 3673.5893983884184\n",
      "root_mean_squared_error: 5702.197579043471\n",
      "\n",
      "Cross validation score : 90.06772598426747\n",
      "\n",
      "R2_Score - Cross Validation Score : -1.0402335915883754\n"
     ]
    }
   ],
   "source": [
    "BR=BaggingRegressor()\n",
    "BR.fit(X_train,Y_train)\n",
    "pred=BR.predict(X_test)\n",
    "R2_score = r2_score(Y_test,pred)*100\n",
    "print('R2_score:',R2_score)\n",
    "print('mean_squared_error:',mean_squared_error(Y_test,pred))\n",
    "print('mean_absolute_error:',mean_absolute_error(Y_test,pred))\n",
    "print('root_mean_squared_error:',np.sqrt(mean_squared_error(Y_test,pred)))\n",
    "\n",
    "# Cross Validation Score\n",
    "scores = cross_val_score(BR, X, Y, cv = 10).mean()*100\n",
    "print(\"\\nCross validation score :\", scores)\n",
    "\n",
    "# Difference between Accuracy and CV Score\n",
    "diff = R2_score - scores\n",
    "print(\"\\nR2_Score - Cross Validation Score :\", diff)\n",
    "\n",
    "write_result('BaggingRegressor',R2_score,scores,mean_squared_error(Y_test,pred),mean_absolute_error(Y_test,pred),np.sqrt(mean_squared_error(Y_test,pred)),diff)"
   ]
  },
  {
   "cell_type": "code",
   "execution_count": 15,
   "metadata": {
    "collapsed": false,
    "pycharm": {
     "name": "#%%\n"
    }
   },
   "outputs": [],
   "source": [
    "from sklearn.model_selection import GridSearchCV"
   ]
  },
  {
   "cell_type": "code",
   "execution_count": null,
   "metadata": {
    "collapsed": false,
    "pycharm": {
     "name": "#%%\n"
    }
   },
   "outputs": [],
   "source": []
  }
 ],
 "metadata": {
  "kernelspec": {
   "display_name": "Python 3",
   "language": "python",
   "name": "python3"
  },
  "language_info": {
   "codemirror_mode": {
    "name": "ipython",
    "version": 3
   },
   "file_extension": ".py",
   "mimetype": "text/x-python",
   "name": "python",
   "nbconvert_exporter": "python",
   "pygments_lexer": "ipython3",
   "version": "3.11.3"
  }
 },
 "nbformat": 4,
 "nbformat_minor": 0
}