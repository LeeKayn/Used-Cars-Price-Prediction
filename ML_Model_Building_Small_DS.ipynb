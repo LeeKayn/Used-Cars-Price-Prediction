{
 "cells": [
  {
   "cell_type": "code",
   "execution_count": 1,
   "outputs": [],
   "source": [
    "import pandas as pd\n",
    "import numpy as np\n",
    "import seaborn as sns\n",
    "import matplotlib.pyplot as plt\n",
    "import warnings\n",
    "warnings.filterwarnings('ignore')"
   ],
   "metadata": {
    "collapsed": false,
    "pycharm": {
     "name": "#%%\n"
    }
   }
  },
  {
   "cell_type": "code",
   "execution_count": 2,
   "outputs": [],
   "source": [
    "df= pd.read_csv('small_dataset.csv')"
   ],
   "metadata": {
    "collapsed": false,
    "pycharm": {
     "name": "#%%\n"
    }
   }
  },
  {
   "cell_type": "code",
   "execution_count": 3,
   "outputs": [
    {
     "data": {
      "text/plain": "   maker_model  body_type  type  seat  door  mileage  non_smoker_vehicle  \\\n0           30         12     5     5     4    56000                   0   \n1          798         18     5     5     5   118630                   0   \n2          736         18     5     3     4    60000                   1   \n3           97         13     5     5     4    78918                   1   \n4          430         13     5     5     5    39700                   0   \n\n   power  gearbox  engine_size  fuel_type  emission_classe  colour  \\\n0    210        0         2967          4                7       6   \n1    140        0         1968          3                5       7   \n2     90        0         1968          3                5      11   \n3    250        0         2998         11                5       1   \n4    235        0         1991         10                7      10   \n\n   upholstery_colour  upholstery  price (€)  car_age  inspection_interval  \n0                  3           1      74960        2                    0  \n1                  1           0      22970        5                    0  \n2                  1           3      27999        3                   -1  \n3                  0           1      38499        5                    0  \n4                  1           3      38560        3                    0  ",
      "text/html": "<div>\n<style scoped>\n    .dataframe tbody tr th:only-of-type {\n        vertical-align: middle;\n    }\n\n    .dataframe tbody tr th {\n        vertical-align: top;\n    }\n\n    .dataframe thead th {\n        text-align: right;\n    }\n</style>\n<table border=\"1\" class=\"dataframe\">\n  <thead>\n    <tr style=\"text-align: right;\">\n      <th></th>\n      <th>maker_model</th>\n      <th>body_type</th>\n      <th>type</th>\n      <th>seat</th>\n      <th>door</th>\n      <th>mileage</th>\n      <th>non_smoker_vehicle</th>\n      <th>power</th>\n      <th>gearbox</th>\n      <th>engine_size</th>\n      <th>fuel_type</th>\n      <th>emission_classe</th>\n      <th>colour</th>\n      <th>upholstery_colour</th>\n      <th>upholstery</th>\n      <th>price (€)</th>\n      <th>car_age</th>\n      <th>inspection_interval</th>\n    </tr>\n  </thead>\n  <tbody>\n    <tr>\n      <th>0</th>\n      <td>30</td>\n      <td>12</td>\n      <td>5</td>\n      <td>5</td>\n      <td>4</td>\n      <td>56000</td>\n      <td>0</td>\n      <td>210</td>\n      <td>0</td>\n      <td>2967</td>\n      <td>4</td>\n      <td>7</td>\n      <td>6</td>\n      <td>3</td>\n      <td>1</td>\n      <td>74960</td>\n      <td>2</td>\n      <td>0</td>\n    </tr>\n    <tr>\n      <th>1</th>\n      <td>798</td>\n      <td>18</td>\n      <td>5</td>\n      <td>5</td>\n      <td>5</td>\n      <td>118630</td>\n      <td>0</td>\n      <td>140</td>\n      <td>0</td>\n      <td>1968</td>\n      <td>3</td>\n      <td>5</td>\n      <td>7</td>\n      <td>1</td>\n      <td>0</td>\n      <td>22970</td>\n      <td>5</td>\n      <td>0</td>\n    </tr>\n    <tr>\n      <th>2</th>\n      <td>736</td>\n      <td>18</td>\n      <td>5</td>\n      <td>3</td>\n      <td>4</td>\n      <td>60000</td>\n      <td>1</td>\n      <td>90</td>\n      <td>0</td>\n      <td>1968</td>\n      <td>3</td>\n      <td>5</td>\n      <td>11</td>\n      <td>1</td>\n      <td>3</td>\n      <td>27999</td>\n      <td>3</td>\n      <td>-1</td>\n    </tr>\n    <tr>\n      <th>3</th>\n      <td>97</td>\n      <td>13</td>\n      <td>5</td>\n      <td>5</td>\n      <td>4</td>\n      <td>78918</td>\n      <td>1</td>\n      <td>250</td>\n      <td>0</td>\n      <td>2998</td>\n      <td>11</td>\n      <td>5</td>\n      <td>1</td>\n      <td>0</td>\n      <td>1</td>\n      <td>38499</td>\n      <td>5</td>\n      <td>0</td>\n    </tr>\n    <tr>\n      <th>4</th>\n      <td>430</td>\n      <td>13</td>\n      <td>5</td>\n      <td>5</td>\n      <td>5</td>\n      <td>39700</td>\n      <td>0</td>\n      <td>235</td>\n      <td>0</td>\n      <td>1991</td>\n      <td>10</td>\n      <td>7</td>\n      <td>10</td>\n      <td>1</td>\n      <td>3</td>\n      <td>38560</td>\n      <td>3</td>\n      <td>0</td>\n    </tr>\n  </tbody>\n</table>\n</div>"
     },
     "execution_count": 3,
     "metadata": {},
     "output_type": "execute_result"
    }
   ],
   "source": [
    "df.head()"
   ],
   "metadata": {
    "collapsed": false,
    "pycharm": {
     "name": "#%%\n"
    }
   }
  },
  {
   "cell_type": "code",
   "execution_count": 4,
   "outputs": [],
   "source": [
    "X = df.drop(['price (€)'], axis = 1)\n",
    "Y = df['price (€)']"
   ],
   "metadata": {
    "collapsed": false,
    "pycharm": {
     "name": "#%%\n"
    }
   }
  },
  {
   "cell_type": "code",
   "execution_count": 5,
   "outputs": [],
   "source": [
    "from sklearn.preprocessing import StandardScaler\n",
    "scaler = StandardScaler()\n",
    "X_scale = scaler.fit_transform(X)"
   ],
   "metadata": {
    "collapsed": false,
    "pycharm": {
     "name": "#%%\n"
    }
   }
  },
  {
   "cell_type": "code",
   "execution_count": 6,
   "outputs": [],
   "source": [
    "from sklearn.linear_model import LinearRegression\n",
    "from sklearn.ensemble import RandomForestRegressor\n",
    "from sklearn.tree import DecisionTreeRegressor\n",
    "from sklearn.ensemble import ExtraTreesRegressor\n",
    "from xgboost import XGBRegressor\n",
    "from sklearn.ensemble import AdaBoostRegressor\n",
    "from sklearn.ensemble import  GradientBoostingRegressor\n",
    "from sklearn.ensemble import BaggingRegressor"
   ],
   "metadata": {
    "collapsed": false,
    "pycharm": {
     "name": "#%%\n"
    }
   }
  },
  {
   "cell_type": "code",
   "execution_count": 7,
   "outputs": [],
   "source": [
    "from sklearn.metrics import mean_squared_error, mean_absolute_error,  r2_score\n",
    "from sklearn.model_selection import train_test_split"
   ],
   "metadata": {
    "collapsed": false,
    "pycharm": {
     "name": "#%%\n"
    }
   }
  },
  {
   "cell_type": "code",
   "execution_count": 8,
   "outputs": [
    {
     "name": "stdout",
     "output_type": "stream",
     "text": [
      "Training feature matrix size: (700, 17)\n",
      "Training target vector size: (700,)\n",
      "Test feature matrix size: (300, 17)\n",
      "Test target vector size: (300,)\n"
     ]
    }
   ],
   "source": [
    "X_train, X_test, Y_train, Y_test = train_test_split(X, Y, random_state=42, test_size=.3)\n",
    "print('Training feature matrix size:',X_train.shape)\n",
    "print('Training target vector size:',Y_train.shape)\n",
    "print('Test feature matrix size:',X_test.shape)\n",
    "print('Test target vector size:',Y_test.shape)"
   ],
   "metadata": {
    "collapsed": false,
    "pycharm": {
     "name": "#%%\n"
    }
   }
  },
  {
   "cell_type": "code",
   "execution_count": 9,
   "outputs": [
    {
     "name": "stdout",
     "output_type": "stream",
     "text": [
      "Best accuracy is  0.8476353507561101  on Random_state  22\n"
     ]
    }
   ],
   "source": [
    "from sklearn.ensemble import RandomForestRegressor\n",
    "maxAccu=0\n",
    "maxRS=0\n",
    "for i in range(1,50):\n",
    "    X_train, X_test, Y_train, Y_test = train_test_split(X, Y, random_state=i, test_size=.3)\n",
    "    mod = RandomForestRegressor()\n",
    "    mod.fit(X_train, Y_train)\n",
    "    pred = mod.predict(X_test)\n",
    "    acc=r2_score(Y_test, pred)\n",
    "    if acc>maxAccu:\n",
    "        maxAccu=acc\n",
    "        maxRS=i\n",
    "print(\"Best accuracy is \",maxAccu,\" on Random_state \",maxRS)"
   ],
   "metadata": {
    "collapsed": false,
    "pycharm": {
     "name": "#%%\n"
    }
   }
  },
  {
   "cell_type": "code",
   "execution_count": 10,
   "outputs": [
    {
     "name": "stdout",
     "output_type": "stream",
     "text": [
      "R2_score: 74.70739215566545\n",
      "mean_squared_error: 424936371.28044903\n",
      "mean_absolute_error: 9203.628499999999\n",
      "root_mean_squared_error: 20613.984847196552\n",
      "\n",
      "Cross validation score : 72.75101638100091\n",
      "\n",
      "R2_Score - Cross Validation Score : 1.9563757746645365\n"
     ]
    }
   ],
   "source": [
    "from sklearn.model_selection import cross_val_score\n",
    "from sklearn.metrics import mean_squared_error\n",
    "RFR=RandomForestRegressor()\n",
    "RFR.fit(X_train,Y_train)\n",
    "pred=RFR.predict(X_test)\n",
    "R2_score = r2_score(Y_test,pred)*100\n",
    "print('R2_score:',R2_score)\n",
    "print('mean_squared_error:',mean_squared_error(Y_test,pred))\n",
    "print('mean_absolute_error:',mean_absolute_error(Y_test,pred))\n",
    "print('root_mean_squared_error:',np.sqrt(mean_squared_error(Y_test,pred)))\n",
    "\n",
    "# Cross Validation Score\n",
    "scores = cross_val_score(RFR, X, Y, cv = 10).mean()*100\n",
    "print(\"\\nCross validation score :\", scores)\n",
    "\n",
    "# Difference between Accuracy and CV Score\n",
    "diff = R2_score - scores\n",
    "print(\"\\nR2_Score - Cross Validation Score :\", diff)"
   ],
   "metadata": {
    "collapsed": false,
    "pycharm": {
     "name": "#%%\n"
    }
   }
  },
  {
   "cell_type": "code",
   "execution_count": 23,
   "outputs": [
    {
     "name": "stdout",
     "output_type": "stream",
     "text": [
      "R2_score: 80.08256108706048\n",
      "mean_squared_error: 334629163.94207853\n",
      "mean_absolute_error: 8229.504099527994\n",
      "root_mean_squared_error: 18292.871943521568\n",
      "\n",
      "Cross validation score : 70.67404926718484\n",
      "\n",
      "R2_Score - Cross Validation Score : 9.408511819875642\n"
     ]
    }
   ],
   "source": [
    "XGB=XGBRegressor()\n",
    "XGB.fit(X_train,Y_train)\n",
    "pred=XGB.predict(X_test)\n",
    "R2_score = r2_score(Y_test,pred)*100\n",
    "print('R2_score:',R2_score)\n",
    "print('mean_squared_error:',mean_squared_error(Y_test,pred))\n",
    "print('mean_absolute_error:',mean_absolute_error(Y_test,pred))\n",
    "print('root_mean_squared_error:',np.sqrt(mean_squared_error(Y_test,pred)))\n",
    "\n",
    "# Cross Validation on XGB Model\n",
    "scores = cross_val_score(XGB, X, Y, cv = 10).mean()*100\n",
    "print(\"\\nCross validation score :\", scores)\n",
    "\n",
    "# Difference between Accuracy and CV Score\n",
    "diff = R2_score - scores\n",
    "print(\"\\nR2_Score - Cross Validation Score :\", diff)"
   ],
   "metadata": {
    "collapsed": false,
    "pycharm": {
     "name": "#%%\n"
    }
   }
  },
  {
   "cell_type": "code",
   "execution_count": 12,
   "outputs": [
    {
     "name": "stdout",
     "output_type": "stream",
     "text": [
      "R2_score: 69.94183372160461\n",
      "mean_squared_error: 505001626.732087\n",
      "mean_absolute_error: 9013.19328223189\n",
      "root_mean_squared_error: 22472.24124852897\n",
      "\n",
      "Cross validation score : 68.70735340251827\n",
      "\n",
      "R2_Score - Cross Validation Score : 1.2344803190863445\n"
     ]
    }
   ],
   "source": [
    "GBR=GradientBoostingRegressor()\n",
    "GBR.fit(X_train,Y_train)\n",
    "pred=GBR.predict(X_test)\n",
    "R2_score = r2_score(Y_test,pred)*100\n",
    "print('R2_score:',R2_score)\n",
    "print('mean_squared_error:',mean_squared_error(Y_test,pred))\n",
    "print('mean_absolute_error:',mean_absolute_error(Y_test,pred))\n",
    "print('root_mean_squared_error:',np.sqrt(mean_squared_error(Y_test,pred)))\n",
    "\n",
    "# Cross Validation on Gradient Boosting\n",
    "scores = cross_val_score(GBR, X, Y, cv = 5).mean()*100\n",
    "print(\"\\nCross validation score :\", scores)\n",
    "\n",
    "# Difference between Accuracy and CV Score\n",
    "diff = R2_score - scores\n",
    "print(\"\\nR2_Score - Cross Validation Score :\", diff)"
   ],
   "metadata": {
    "collapsed": false,
    "pycharm": {
     "name": "#%%\n"
    }
   }
  },
  {
   "cell_type": "code",
   "execution_count": 15,
   "outputs": [
    {
     "name": "stdout",
     "output_type": "stream",
     "text": [
      "R2_score: 13.590218580266356\n",
      "mean_squared_error: 1451754567.4066668\n",
      "mean_absolute_error: 14764.686666666666\n",
      "root_mean_squared_error: 38101.8971628273\n",
      "\n",
      "Cross validation score : 30.348460274950185\n",
      "\n",
      "R2_Score - Cross Validation Score : -16.75824169468383\n"
     ]
    }
   ],
   "source": [
    "DTR=DecisionTreeRegressor()\n",
    "DTR.fit(X_train,Y_train)\n",
    "pred=DTR.predict(X_test)\n",
    "R2_score = r2_score(Y_test,pred)*100\n",
    "print('R2_score:',R2_score)\n",
    "print('mean_squared_error:',mean_squared_error(Y_test,pred))\n",
    "print('mean_absolute_error:',mean_absolute_error(Y_test,pred))\n",
    "print('root_mean_squared_error:',np.sqrt(mean_squared_error(Y_test,pred)))\n",
    "# Cross Validation Score\n",
    "scores = cross_val_score(DTR, X, Y, cv = 5).mean()*100\n",
    "print(\"\\nCross validation score :\", scores)\n",
    "\n",
    "# Difference between Accuracy and CV Score\n",
    "diff = R2_score - scores\n",
    "print(\"\\nR2_Score - Cross Validation Score :\", diff)"
   ],
   "metadata": {
    "collapsed": false,
    "pycharm": {
     "name": "#%%\n"
    }
   }
  },
  {
   "cell_type": "code",
   "execution_count": 14,
   "outputs": [
    {
     "name": "stdout",
     "output_type": "stream",
     "text": [
      "R2_score: 71.48137118986344\n",
      "mean_squared_error: 479136145.828\n",
      "mean_absolute_error: 9640.694666666668\n",
      "root_mean_squared_error: 21889.178738088827\n",
      "\n",
      "Cross validation score : 63.74237931737674\n",
      "\n",
      "R2_Score - Cross Validation Score : 7.7389918724867\n"
     ]
    }
   ],
   "source": [
    "BR=BaggingRegressor()\n",
    "BR.fit(X_train,Y_train)\n",
    "pred=BR.predict(X_test)\n",
    "R2_score = r2_score(Y_test,pred)*100\n",
    "print('R2_score:',R2_score)\n",
    "print('mean_squared_error:',mean_squared_error(Y_test,pred))\n",
    "print('mean_absolute_error:',mean_absolute_error(Y_test,pred))\n",
    "print('root_mean_squared_error:',np.sqrt(mean_squared_error(Y_test,pred)))\n",
    "\n",
    "# Cross Validation Score\n",
    "scores = cross_val_score(BR, X, Y, cv = 5).mean()*100\n",
    "print(\"\\nCross validation score :\", scores)\n",
    "\n",
    "# Difference between Accuracy and CV Score\n",
    "diff = R2_score - scores\n",
    "print(\"\\nR2_Score - Cross Validation Score :\", diff)"
   ],
   "metadata": {
    "collapsed": false,
    "pycharm": {
     "name": "#%%\n"
    }
   }
  },
  {
   "cell_type": "code",
   "execution_count": 16,
   "outputs": [],
   "source": [
    "from sklearn.model_selection import GridSearchCV"
   ],
   "metadata": {
    "collapsed": false,
    "pycharm": {
     "name": "#%%\n"
    }
   }
  },
  {
   "cell_type": "code",
   "execution_count": 17,
   "outputs": [],
   "source": [
    "parameter = {'max_depth': [3, 4, 5],\n",
    "             'learning_rate': [0.01, 0.1, 0.3],\n",
    "             'n_estimators': [50, 100, 200],\n",
    "             'min_child_weight': [1, 5, 10],\n",
    "             'gamma': [0, 0.2, 0.5],\n",
    "             'subsample': [0.5, 0.8, 1.0],\n",
    "             'colsample_bytree': [0.5, 0.8, 1.0]}"
   ],
   "metadata": {
    "collapsed": false,
    "pycharm": {
     "name": "#%%\n"
    }
   }
  },
  {
   "cell_type": "code",
   "execution_count": 18,
   "outputs": [],
   "source": [
    "GCV=GridSearchCV(XGBRegressor(),parameter,cv=5)"
   ],
   "metadata": {
    "collapsed": false,
    "pycharm": {
     "name": "#%%\n"
    }
   }
  },
  {
   "cell_type": "code",
   "execution_count": 19,
   "outputs": [
    {
     "data": {
      "text/plain": "GridSearchCV(cv=5,\n             estimator=XGBRegressor(base_score=None, booster=None,\n                                    callbacks=None, colsample_bylevel=None,\n                                    colsample_bynode=None,\n                                    colsample_bytree=None,\n                                    early_stopping_rounds=None,\n                                    enable_categorical=False, eval_metric=None,\n                                    feature_types=None, gamma=None, gpu_id=None,\n                                    grow_policy=None, importance_type=None,\n                                    interaction_constraints=None,\n                                    learning_rate=None, m...\n                                    max_depth=None, max_leaves=None,\n                                    min_child_weight=None, missing=nan,\n                                    monotone_constraints=None, n_estimators=100,\n                                    n_jobs=None, num_parallel_tree=None,\n                                    predictor=None, random_state=None, ...),\n             param_grid={'colsample_bytree': [0.5, 0.8, 1.0],\n                         'gamma': [0, 0.2, 0.5],\n                         'learning_rate': [0.01, 0.1, 0.3],\n                         'max_depth': [3, 4, 5], 'min_child_weight': [1, 5, 10],\n                         'n_estimators': [50, 100, 200],\n                         'subsample': [0.5, 0.8, 1.0]})",
      "text/html": "<style>#sk-container-id-1 {color: black;background-color: white;}#sk-container-id-1 pre{padding: 0;}#sk-container-id-1 div.sk-toggleable {background-color: white;}#sk-container-id-1 label.sk-toggleable__label {cursor: pointer;display: block;width: 100%;margin-bottom: 0;padding: 0.3em;box-sizing: border-box;text-align: center;}#sk-container-id-1 label.sk-toggleable__label-arrow:before {content: \"▸\";float: left;margin-right: 0.25em;color: #696969;}#sk-container-id-1 label.sk-toggleable__label-arrow:hover:before {color: black;}#sk-container-id-1 div.sk-estimator:hover label.sk-toggleable__label-arrow:before {color: black;}#sk-container-id-1 div.sk-toggleable__content {max-height: 0;max-width: 0;overflow: hidden;text-align: left;background-color: #f0f8ff;}#sk-container-id-1 div.sk-toggleable__content pre {margin: 0.2em;color: black;border-radius: 0.25em;background-color: #f0f8ff;}#sk-container-id-1 input.sk-toggleable__control:checked~div.sk-toggleable__content {max-height: 200px;max-width: 100%;overflow: auto;}#sk-container-id-1 input.sk-toggleable__control:checked~label.sk-toggleable__label-arrow:before {content: \"▾\";}#sk-container-id-1 div.sk-estimator input.sk-toggleable__control:checked~label.sk-toggleable__label {background-color: #d4ebff;}#sk-container-id-1 div.sk-label input.sk-toggleable__control:checked~label.sk-toggleable__label {background-color: #d4ebff;}#sk-container-id-1 input.sk-hidden--visually {border: 0;clip: rect(1px 1px 1px 1px);clip: rect(1px, 1px, 1px, 1px);height: 1px;margin: -1px;overflow: hidden;padding: 0;position: absolute;width: 1px;}#sk-container-id-1 div.sk-estimator {font-family: monospace;background-color: #f0f8ff;border: 1px dotted black;border-radius: 0.25em;box-sizing: border-box;margin-bottom: 0.5em;}#sk-container-id-1 div.sk-estimator:hover {background-color: #d4ebff;}#sk-container-id-1 div.sk-parallel-item::after {content: \"\";width: 100%;border-bottom: 1px solid gray;flex-grow: 1;}#sk-container-id-1 div.sk-label:hover label.sk-toggleable__label {background-color: #d4ebff;}#sk-container-id-1 div.sk-serial::before {content: \"\";position: absolute;border-left: 1px solid gray;box-sizing: border-box;top: 0;bottom: 0;left: 50%;z-index: 0;}#sk-container-id-1 div.sk-serial {display: flex;flex-direction: column;align-items: center;background-color: white;padding-right: 0.2em;padding-left: 0.2em;position: relative;}#sk-container-id-1 div.sk-item {position: relative;z-index: 1;}#sk-container-id-1 div.sk-parallel {display: flex;align-items: stretch;justify-content: center;background-color: white;position: relative;}#sk-container-id-1 div.sk-item::before, #sk-container-id-1 div.sk-parallel-item::before {content: \"\";position: absolute;border-left: 1px solid gray;box-sizing: border-box;top: 0;bottom: 0;left: 50%;z-index: -1;}#sk-container-id-1 div.sk-parallel-item {display: flex;flex-direction: column;z-index: 1;position: relative;background-color: white;}#sk-container-id-1 div.sk-parallel-item:first-child::after {align-self: flex-end;width: 50%;}#sk-container-id-1 div.sk-parallel-item:last-child::after {align-self: flex-start;width: 50%;}#sk-container-id-1 div.sk-parallel-item:only-child::after {width: 0;}#sk-container-id-1 div.sk-dashed-wrapped {border: 1px dashed gray;margin: 0 0.4em 0.5em 0.4em;box-sizing: border-box;padding-bottom: 0.4em;background-color: white;}#sk-container-id-1 div.sk-label label {font-family: monospace;font-weight: bold;display: inline-block;line-height: 1.2em;}#sk-container-id-1 div.sk-label-container {text-align: center;}#sk-container-id-1 div.sk-container {/* jupyter's `normalize.less` sets `[hidden] { display: none; }` but bootstrap.min.css set `[hidden] { display: none !important; }` so we also need the `!important` here to be able to override the default hidden behavior on the sphinx rendered scikit-learn.org. See: https://github.com/scikit-learn/scikit-learn/issues/21755 */display: inline-block !important;position: relative;}#sk-container-id-1 div.sk-text-repr-fallback {display: none;}</style><div id=\"sk-container-id-1\" class=\"sk-top-container\"><div class=\"sk-text-repr-fallback\"><pre>GridSearchCV(cv=5,\n             estimator=XGBRegressor(base_score=None, booster=None,\n                                    callbacks=None, colsample_bylevel=None,\n                                    colsample_bynode=None,\n                                    colsample_bytree=None,\n                                    early_stopping_rounds=None,\n                                    enable_categorical=False, eval_metric=None,\n                                    feature_types=None, gamma=None, gpu_id=None,\n                                    grow_policy=None, importance_type=None,\n                                    interaction_constraints=None,\n                                    learning_rate=None, m...\n                                    max_depth=None, max_leaves=None,\n                                    min_child_weight=None, missing=nan,\n                                    monotone_constraints=None, n_estimators=100,\n                                    n_jobs=None, num_parallel_tree=None,\n                                    predictor=None, random_state=None, ...),\n             param_grid={&#x27;colsample_bytree&#x27;: [0.5, 0.8, 1.0],\n                         &#x27;gamma&#x27;: [0, 0.2, 0.5],\n                         &#x27;learning_rate&#x27;: [0.01, 0.1, 0.3],\n                         &#x27;max_depth&#x27;: [3, 4, 5], &#x27;min_child_weight&#x27;: [1, 5, 10],\n                         &#x27;n_estimators&#x27;: [50, 100, 200],\n                         &#x27;subsample&#x27;: [0.5, 0.8, 1.0]})</pre><b>In a Jupyter environment, please rerun this cell to show the HTML representation or trust the notebook. <br />On GitHub, the HTML representation is unable to render, please try loading this page with nbviewer.org.</b></div><div class=\"sk-container\" hidden><div class=\"sk-item sk-dashed-wrapped\"><div class=\"sk-label-container\"><div class=\"sk-label sk-toggleable\"><input class=\"sk-toggleable__control sk-hidden--visually\" id=\"sk-estimator-id-1\" type=\"checkbox\" ><label for=\"sk-estimator-id-1\" class=\"sk-toggleable__label sk-toggleable__label-arrow\">GridSearchCV</label><div class=\"sk-toggleable__content\"><pre>GridSearchCV(cv=5,\n             estimator=XGBRegressor(base_score=None, booster=None,\n                                    callbacks=None, colsample_bylevel=None,\n                                    colsample_bynode=None,\n                                    colsample_bytree=None,\n                                    early_stopping_rounds=None,\n                                    enable_categorical=False, eval_metric=None,\n                                    feature_types=None, gamma=None, gpu_id=None,\n                                    grow_policy=None, importance_type=None,\n                                    interaction_constraints=None,\n                                    learning_rate=None, m...\n                                    max_depth=None, max_leaves=None,\n                                    min_child_weight=None, missing=nan,\n                                    monotone_constraints=None, n_estimators=100,\n                                    n_jobs=None, num_parallel_tree=None,\n                                    predictor=None, random_state=None, ...),\n             param_grid={&#x27;colsample_bytree&#x27;: [0.5, 0.8, 1.0],\n                         &#x27;gamma&#x27;: [0, 0.2, 0.5],\n                         &#x27;learning_rate&#x27;: [0.01, 0.1, 0.3],\n                         &#x27;max_depth&#x27;: [3, 4, 5], &#x27;min_child_weight&#x27;: [1, 5, 10],\n                         &#x27;n_estimators&#x27;: [50, 100, 200],\n                         &#x27;subsample&#x27;: [0.5, 0.8, 1.0]})</pre></div></div></div><div class=\"sk-parallel\"><div class=\"sk-parallel-item\"><div class=\"sk-item\"><div class=\"sk-label-container\"><div class=\"sk-label sk-toggleable\"><input class=\"sk-toggleable__control sk-hidden--visually\" id=\"sk-estimator-id-2\" type=\"checkbox\" ><label for=\"sk-estimator-id-2\" class=\"sk-toggleable__label sk-toggleable__label-arrow\">estimator: XGBRegressor</label><div class=\"sk-toggleable__content\"><pre>XGBRegressor(base_score=None, booster=None, callbacks=None,\n             colsample_bylevel=None, colsample_bynode=None,\n             colsample_bytree=None, early_stopping_rounds=None,\n             enable_categorical=False, eval_metric=None, feature_types=None,\n             gamma=None, gpu_id=None, grow_policy=None, importance_type=None,\n             interaction_constraints=None, learning_rate=None, max_bin=None,\n             max_cat_threshold=None, max_cat_to_onehot=None,\n             max_delta_step=None, max_depth=None, max_leaves=None,\n             min_child_weight=None, missing=nan, monotone_constraints=None,\n             n_estimators=100, n_jobs=None, num_parallel_tree=None,\n             predictor=None, random_state=None, ...)</pre></div></div></div><div class=\"sk-serial\"><div class=\"sk-item\"><div class=\"sk-estimator sk-toggleable\"><input class=\"sk-toggleable__control sk-hidden--visually\" id=\"sk-estimator-id-3\" type=\"checkbox\" ><label for=\"sk-estimator-id-3\" class=\"sk-toggleable__label sk-toggleable__label-arrow\">XGBRegressor</label><div class=\"sk-toggleable__content\"><pre>XGBRegressor(base_score=None, booster=None, callbacks=None,\n             colsample_bylevel=None, colsample_bynode=None,\n             colsample_bytree=None, early_stopping_rounds=None,\n             enable_categorical=False, eval_metric=None, feature_types=None,\n             gamma=None, gpu_id=None, grow_policy=None, importance_type=None,\n             interaction_constraints=None, learning_rate=None, max_bin=None,\n             max_cat_threshold=None, max_cat_to_onehot=None,\n             max_delta_step=None, max_depth=None, max_leaves=None,\n             min_child_weight=None, missing=nan, monotone_constraints=None,\n             n_estimators=100, n_jobs=None, num_parallel_tree=None,\n             predictor=None, random_state=None, ...)</pre></div></div></div></div></div></div></div></div></div></div>"
     },
     "execution_count": 19,
     "metadata": {},
     "output_type": "execute_result"
    }
   ],
   "source": [
    "GCV.fit(X_train,Y_train)"
   ],
   "metadata": {
    "collapsed": false,
    "pycharm": {
     "name": "#%%\n"
    }
   }
  },
  {
   "cell_type": "code",
   "execution_count": 20,
   "outputs": [
    {
     "data": {
      "text/plain": "{'colsample_bytree': 1.0,\n 'gamma': 0,\n 'learning_rate': 0.1,\n 'max_depth': 5,\n 'min_child_weight': 1,\n 'n_estimators': 50,\n 'subsample': 0.5}"
     },
     "execution_count": 20,
     "metadata": {},
     "output_type": "execute_result"
    }
   ],
   "source": [
    "GCV.best_params_"
   ],
   "metadata": {
    "collapsed": false,
    "pycharm": {
     "name": "#%%\n"
    }
   }
  },
  {
   "cell_type": "code",
   "execution_count": 22,
   "outputs": [
    {
     "name": "stdout",
     "output_type": "stream",
     "text": [
      "R2_Score: 73.38325268596077\n",
      "mean_squared_error: 447182990.71916217\n",
      "mean_absolute_error: 9256.816088867188\n",
      "RMSE value: 21146.701651065167\n"
     ]
    }
   ],
   "source": [
    "Final_mod=XGBRegressor(colsample_bytree=1.0, max_depth=5, gamma=0,\n",
    "                                learning_rate=0.1,min_child_weight=1,n_estimators=50, subsample=0.5)\n",
    "Final_mod.fit(X_train,Y_train)\n",
    "pred=Final_mod.predict(X_test)\n",
    "print('R2_Score:',r2_score(Y_test,pred)*100)\n",
    "print('mean_squared_error:',mean_squared_error(Y_test,pred))\n",
    "print('mean_absolute_error:',mean_absolute_error(Y_test,pred))\n",
    "print(\"RMSE value:\",np.sqrt(mean_squared_error(Y_test, pred)))"
   ],
   "metadata": {
    "collapsed": false,
    "pycharm": {
     "name": "#%%\n"
    }
   }
  },
  {
   "cell_type": "code",
   "execution_count": 40,
   "outputs": [],
   "source": [
    "parameters = {\n",
    "    'n_estimators': [100, 200, 300],  # Số lượng cây quyết định\n",
    "    'max_features': ['sqrt', 'log2'],  # Số lượng đặc trưng được chọn\n",
    "    'max_depth': [None, 5, 10],  # Độ sâu tối đa của cây\n",
    "    'min_samples_split': [2, 5, 10],  # Số lượng mẫu tối thiểu để phân chia một nút\n",
    "    'min_samples_leaf': [1, 2, 4]  ,# Số lượng mẫu tối thiểu để làm lá\n",
    "    'random_state': [22],\n",
    "}"
   ],
   "metadata": {
    "collapsed": false,
    "pycharm": {
     "name": "#%%\n"
    }
   }
  },
  {
   "cell_type": "code",
   "execution_count": 41,
   "outputs": [],
   "source": [
    "GCV=GridSearchCV(RandomForestRegressor(),parameters,cv=5)"
   ],
   "metadata": {
    "collapsed": false,
    "pycharm": {
     "name": "#%%\n"
    }
   }
  },
  {
   "cell_type": "code",
   "execution_count": 42,
   "outputs": [
    {
     "data": {
      "text/plain": "GridSearchCV(cv=5, estimator=RandomForestRegressor(),\n             param_grid={'max_depth': [None, 5, 10],\n                         'max_features': ['sqrt', 'log2'],\n                         'min_samples_leaf': [1, 2, 4],\n                         'min_samples_split': [2, 5, 10],\n                         'n_estimators': [100, 200, 300],\n                         'random_state': [22]})",
      "text/html": "<style>#sk-container-id-3 {color: black;background-color: white;}#sk-container-id-3 pre{padding: 0;}#sk-container-id-3 div.sk-toggleable {background-color: white;}#sk-container-id-3 label.sk-toggleable__label {cursor: pointer;display: block;width: 100%;margin-bottom: 0;padding: 0.3em;box-sizing: border-box;text-align: center;}#sk-container-id-3 label.sk-toggleable__label-arrow:before {content: \"▸\";float: left;margin-right: 0.25em;color: #696969;}#sk-container-id-3 label.sk-toggleable__label-arrow:hover:before {color: black;}#sk-container-id-3 div.sk-estimator:hover label.sk-toggleable__label-arrow:before {color: black;}#sk-container-id-3 div.sk-toggleable__content {max-height: 0;max-width: 0;overflow: hidden;text-align: left;background-color: #f0f8ff;}#sk-container-id-3 div.sk-toggleable__content pre {margin: 0.2em;color: black;border-radius: 0.25em;background-color: #f0f8ff;}#sk-container-id-3 input.sk-toggleable__control:checked~div.sk-toggleable__content {max-height: 200px;max-width: 100%;overflow: auto;}#sk-container-id-3 input.sk-toggleable__control:checked~label.sk-toggleable__label-arrow:before {content: \"▾\";}#sk-container-id-3 div.sk-estimator input.sk-toggleable__control:checked~label.sk-toggleable__label {background-color: #d4ebff;}#sk-container-id-3 div.sk-label input.sk-toggleable__control:checked~label.sk-toggleable__label {background-color: #d4ebff;}#sk-container-id-3 input.sk-hidden--visually {border: 0;clip: rect(1px 1px 1px 1px);clip: rect(1px, 1px, 1px, 1px);height: 1px;margin: -1px;overflow: hidden;padding: 0;position: absolute;width: 1px;}#sk-container-id-3 div.sk-estimator {font-family: monospace;background-color: #f0f8ff;border: 1px dotted black;border-radius: 0.25em;box-sizing: border-box;margin-bottom: 0.5em;}#sk-container-id-3 div.sk-estimator:hover {background-color: #d4ebff;}#sk-container-id-3 div.sk-parallel-item::after {content: \"\";width: 100%;border-bottom: 1px solid gray;flex-grow: 1;}#sk-container-id-3 div.sk-label:hover label.sk-toggleable__label {background-color: #d4ebff;}#sk-container-id-3 div.sk-serial::before {content: \"\";position: absolute;border-left: 1px solid gray;box-sizing: border-box;top: 0;bottom: 0;left: 50%;z-index: 0;}#sk-container-id-3 div.sk-serial {display: flex;flex-direction: column;align-items: center;background-color: white;padding-right: 0.2em;padding-left: 0.2em;position: relative;}#sk-container-id-3 div.sk-item {position: relative;z-index: 1;}#sk-container-id-3 div.sk-parallel {display: flex;align-items: stretch;justify-content: center;background-color: white;position: relative;}#sk-container-id-3 div.sk-item::before, #sk-container-id-3 div.sk-parallel-item::before {content: \"\";position: absolute;border-left: 1px solid gray;box-sizing: border-box;top: 0;bottom: 0;left: 50%;z-index: -1;}#sk-container-id-3 div.sk-parallel-item {display: flex;flex-direction: column;z-index: 1;position: relative;background-color: white;}#sk-container-id-3 div.sk-parallel-item:first-child::after {align-self: flex-end;width: 50%;}#sk-container-id-3 div.sk-parallel-item:last-child::after {align-self: flex-start;width: 50%;}#sk-container-id-3 div.sk-parallel-item:only-child::after {width: 0;}#sk-container-id-3 div.sk-dashed-wrapped {border: 1px dashed gray;margin: 0 0.4em 0.5em 0.4em;box-sizing: border-box;padding-bottom: 0.4em;background-color: white;}#sk-container-id-3 div.sk-label label {font-family: monospace;font-weight: bold;display: inline-block;line-height: 1.2em;}#sk-container-id-3 div.sk-label-container {text-align: center;}#sk-container-id-3 div.sk-container {/* jupyter's `normalize.less` sets `[hidden] { display: none; }` but bootstrap.min.css set `[hidden] { display: none !important; }` so we also need the `!important` here to be able to override the default hidden behavior on the sphinx rendered scikit-learn.org. See: https://github.com/scikit-learn/scikit-learn/issues/21755 */display: inline-block !important;position: relative;}#sk-container-id-3 div.sk-text-repr-fallback {display: none;}</style><div id=\"sk-container-id-3\" class=\"sk-top-container\"><div class=\"sk-text-repr-fallback\"><pre>GridSearchCV(cv=5, estimator=RandomForestRegressor(),\n             param_grid={&#x27;max_depth&#x27;: [None, 5, 10],\n                         &#x27;max_features&#x27;: [&#x27;sqrt&#x27;, &#x27;log2&#x27;],\n                         &#x27;min_samples_leaf&#x27;: [1, 2, 4],\n                         &#x27;min_samples_split&#x27;: [2, 5, 10],\n                         &#x27;n_estimators&#x27;: [100, 200, 300],\n                         &#x27;random_state&#x27;: [22]})</pre><b>In a Jupyter environment, please rerun this cell to show the HTML representation or trust the notebook. <br />On GitHub, the HTML representation is unable to render, please try loading this page with nbviewer.org.</b></div><div class=\"sk-container\" hidden><div class=\"sk-item sk-dashed-wrapped\"><div class=\"sk-label-container\"><div class=\"sk-label sk-toggleable\"><input class=\"sk-toggleable__control sk-hidden--visually\" id=\"sk-estimator-id-7\" type=\"checkbox\" ><label for=\"sk-estimator-id-7\" class=\"sk-toggleable__label sk-toggleable__label-arrow\">GridSearchCV</label><div class=\"sk-toggleable__content\"><pre>GridSearchCV(cv=5, estimator=RandomForestRegressor(),\n             param_grid={&#x27;max_depth&#x27;: [None, 5, 10],\n                         &#x27;max_features&#x27;: [&#x27;sqrt&#x27;, &#x27;log2&#x27;],\n                         &#x27;min_samples_leaf&#x27;: [1, 2, 4],\n                         &#x27;min_samples_split&#x27;: [2, 5, 10],\n                         &#x27;n_estimators&#x27;: [100, 200, 300],\n                         &#x27;random_state&#x27;: [22]})</pre></div></div></div><div class=\"sk-parallel\"><div class=\"sk-parallel-item\"><div class=\"sk-item\"><div class=\"sk-label-container\"><div class=\"sk-label sk-toggleable\"><input class=\"sk-toggleable__control sk-hidden--visually\" id=\"sk-estimator-id-8\" type=\"checkbox\" ><label for=\"sk-estimator-id-8\" class=\"sk-toggleable__label sk-toggleable__label-arrow\">estimator: RandomForestRegressor</label><div class=\"sk-toggleable__content\"><pre>RandomForestRegressor()</pre></div></div></div><div class=\"sk-serial\"><div class=\"sk-item\"><div class=\"sk-estimator sk-toggleable\"><input class=\"sk-toggleable__control sk-hidden--visually\" id=\"sk-estimator-id-9\" type=\"checkbox\" ><label for=\"sk-estimator-id-9\" class=\"sk-toggleable__label sk-toggleable__label-arrow\">RandomForestRegressor</label><div class=\"sk-toggleable__content\"><pre>RandomForestRegressor()</pre></div></div></div></div></div></div></div></div></div></div>"
     },
     "execution_count": 42,
     "metadata": {},
     "output_type": "execute_result"
    }
   ],
   "source": [
    "GCV.fit(X_train,Y_train)"
   ],
   "metadata": {
    "collapsed": false,
    "pycharm": {
     "name": "#%%\n"
    }
   }
  },
  {
   "cell_type": "code",
   "execution_count": 43,
   "outputs": [
    {
     "data": {
      "text/plain": "{'max_depth': None,\n 'max_features': 'sqrt',\n 'min_samples_leaf': 2,\n 'min_samples_split': 2,\n 'n_estimators': 100,\n 'random_state': 22}"
     },
     "execution_count": 43,
     "metadata": {},
     "output_type": "execute_result"
    }
   ],
   "source": [
    "GCV.best_params_"
   ],
   "metadata": {
    "collapsed": false,
    "pycharm": {
     "name": "#%%\n"
    }
   }
  },
  {
   "cell_type": "code",
   "execution_count": 39,
   "outputs": [
    {
     "name": "stdout",
     "output_type": "stream",
     "text": [
      "R2_Score: 70.29035180111116\n",
      "mean_squared_error: 499146239.6979533\n",
      "mean_absolute_error: 9407.491838095239\n",
      "RMSE value: 22341.580957890004\n"
     ]
    }
   ],
   "source": [
    "Final_mod=RandomForestRegressor(min_samples_leaf=1, max_depth=None,\n",
    "                                max_features='sqrt',min_samples_split=2, n_estimators=300,random_state=22)\n",
    "Final_mod.fit(X_train,Y_train)\n",
    "pred=Final_mod.predict(X_test)\n",
    "print('R2_Score:',r2_score(Y_test,pred)*100)\n",
    "print('mean_squared_error:',mean_squared_error(Y_test,pred))\n",
    "print('mean_absolute_error:',mean_absolute_error(Y_test,pred))\n",
    "print(\"RMSE value:\",np.sqrt(mean_squared_error(Y_test, pred)))"
   ],
   "metadata": {
    "collapsed": false,
    "pycharm": {
     "name": "#%%\n"
    }
   }
  },
  {
   "cell_type": "code",
   "execution_count": null,
   "outputs": [],
   "source": [],
   "metadata": {
    "collapsed": false,
    "pycharm": {
     "name": "#%%\n"
    }
   }
  }
 ],
 "metadata": {
  "kernelspec": {
   "display_name": "Python 3",
   "language": "python",
   "name": "python3"
  },
  "language_info": {
   "codemirror_mode": {
    "name": "ipython",
    "version": 2
   },
   "file_extension": ".py",
   "mimetype": "text/x-python",
   "name": "python",
   "nbconvert_exporter": "python",
   "pygments_lexer": "ipython2",
   "version": "2.7.6"
  }
 },
 "nbformat": 4,
 "nbformat_minor": 0
}